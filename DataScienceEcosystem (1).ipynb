{
 "cells": [
  {
   "cell_type": "markdown",
   "id": "ccf0cc1a-37af-4efc-a40f-e530f77a1267",
   "metadata": {},
   "source": [
    "<p>In this notebook, Data Science Tools and Ecosystem are summarized </p>"
   ]
  },
  {
   "cell_type": "markdown",
   "id": "7cba73e9-ef2c-4275-afc4-742f631b7af7",
   "metadata": {},
   "source": [
    "<h1>Data Science Tools and Ecosystem</h1>\n"
   ]
  },
  {
   "cell_type": "markdown",
   "id": "34823c6d-70a0-4f99-bd85-d13f55c03e6e",
   "metadata": {},
   "source": [
    "<p>Some of the popular languages that Data Scientists use are:</p>\n",
    "\n",
    "<ol>\n",
    "<li>python</li>\n",
    "<li>R</li>\n",
    "<li>C/C++</li>\n",
    "<li>Julia</li>\n",
    "<li>Java</li>\n",
    "<li>SQL</li>\n"
   ]
  },
  {
   "cell_type": "markdown",
   "id": "a437ffb9-c094-4568-9c83-f576136703c5",
   "metadata": {},
   "source": [
    "<p>Some of the commonly used libraries used by Data Scientists include:</p>\n",
    "\n",
    "<ol>\n",
    "<li>Numpy</li>\n",
    "<li>Pandas</li>\n",
    "<li>pytorch</li>\n",
    "<li>Matplotlip</li>\n",
    "<li>Seaborn</li>\n",
    "<li>Keras</li>\n",
    "<li>TensorFlow</li>\n",
    "<li>Scikit-learn</li>\n",
    "\n",
    "</ol>"
   ]
  },
  {
   "cell_type": "markdown",
   "id": "17627bb6-eb24-4f11-8858-83ac18084ade",
   "metadata": {},
   "source": [
    "<table>\n",
    "<tr>\n",
    "<th>Data Science Tools</th>\n",
    "<th></th>\n",
    "<th></th>\n",
    "</tr>\n",
    "\n",
    "<tr>\n",
    "<td>Apache Spark</td>\n",
    "<td></td>\n",
    "<td></td>\n",
    "</tr>\n",
    "\n",
    "<tr>\n",
    "<td>Hadoop</td>\n",
    "<td></td>\n",
    "<td></td>\n",
    "</tr>\n",
    "\n",
    "<tr>\n",
    "<td>Tableau</td>\n",
    "<td></td>\n",
    "<td></td>\n",
    "</tr>\n",
    "\n",
    "</table>"
   ]
  },
  {
   "cell_type": "markdown",
   "id": "b816b8c3-2376-4d7f-af99-3d8ec82446b4",
   "metadata": {},
   "source": [
    "<h3>Below are a few examples of evaluating arithmetic expressions in Python.</h3>\n",
    "\n",
    "\\begin{equation*}\n",
    "P(E)   = {n \\choose k} p^k (1-p)^{ n-k}\n",
    "\\end{equation*} \n",
    "\n",
    "$$\n",
    "x = 4\n",
    "$$"
   ]
  },
  {
   "cell_type": "markdown",
   "id": "7f56095d-c212-487d-9e66-0477fe2ee01d",
   "metadata": {},
   "source": [
    "This a simple arithmetic expression to mutiply then add integer :\n"
   ]
  },
  {
   "cell_type": "code",
   "execution_count": 4,
   "id": "e06ad4a7-70c9-4b52-a6e9-d78eb18ec54f",
   "metadata": {
    "tags": []
   },
   "outputs": [
    {
     "data": {
      "text/plain": [
       "17"
      ]
     },
     "execution_count": 4,
     "metadata": {},
     "output_type": "execute_result"
    }
   ],
   "source": [
    "(3*4)+5"
   ]
  },
  {
   "cell_type": "markdown",
   "id": "0839184a-b1ae-47b9-95ab-c62d881cea3c",
   "metadata": {},
   "source": [
    "This will convert 200 minutes to hours by diving by 60"
   ]
  },
  {
   "cell_type": "code",
   "execution_count": 6,
   "id": "cf259707-c041-40a5-adac-f857f6955767",
   "metadata": {
    "tags": []
   },
   "outputs": [
    {
     "name": "stdout",
     "output_type": "stream",
     "text": [
      "Hours= 3\n"
     ]
    }
   ],
   "source": [
    "hours = 200 // 60\n",
    "min = 200 % 60\n",
    "print(\"Hours=\", hours)"
   ]
  },
  {
   "cell_type": "markdown",
   "id": "af54dcf6-1a78-438e-9021-ccdeab32955d",
   "metadata": {},
   "source": [
    "__Objectives:__\n",
    "\n",
    " List popular languages for Data Science:\n",
    "<ul>\n",
    "<li>R</li>\n",
    "<li>SQL</li>\n",
    "<li>Java</li>\n",
    "<li>Python</li>\n",
    "<li>Julia</li>\n",
    "\n",
    "</ul>"
   ]
  },
  {
   "cell_type": "markdown",
   "id": "3d7f0e3f-a497-444a-b8f9-2b488d5b3158",
   "metadata": {},
   "source": [
    "<h2>Author</h2>\n",
    "shjoon mushreef\n"
   ]
  },
  {
   "cell_type": "code",
   "execution_count": null,
   "id": "859e1f92-eec1-4415-9971-86699c3a7d79",
   "metadata": {},
   "outputs": [],
   "source": []
  }
 ],
 "metadata": {
  "kernelspec": {
   "display_name": "Python",
   "language": "python",
   "name": "conda-env-python-py"
  },
  "language_info": {
   "codemirror_mode": {
    "name": "ipython",
    "version": 3
   },
   "file_extension": ".py",
   "mimetype": "text/x-python",
   "name": "python",
   "nbconvert_exporter": "python",
   "pygments_lexer": "ipython3",
   "version": "3.7.12"
  }
 },
 "nbformat": 4,
 "nbformat_minor": 5
}
